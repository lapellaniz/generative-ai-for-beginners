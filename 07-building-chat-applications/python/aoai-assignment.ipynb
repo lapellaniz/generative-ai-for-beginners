{
  "cells": [
    {
      "attachments": {},
      "cell_type": "markdown",
      "metadata": {
        "nteract": {
          "transient": {
            "deleting": false
          }
        }
      },
      "source": [
        "# Chapter 7: Building Chat Applications\n",
        "## Azure OpenAI API Quickstart"
      ]
    },
    {
      "attachments": {},
      "cell_type": "markdown",
      "metadata": {
        "nteract": {
          "transient": {
            "deleting": false
          }
        }
      },
      "source": [
        "## Overview\n",
        "This notebook is adapted from the [Azure OpenAI Samples Repository](https://github.com/Azure/azure-openai-samples?WT.mc_id=academic-105485-koreyst) that includes notebooks that also access the [OpenAI](notebook-openai.ipynb) service.\n",
        "\n",
        "The Python OpenAI API works with Azure OpenAI as well, with a few modifications. Learn more about the differences here: [How to switch between OpenAI and Azure OpenAI endpoints with Python](https://learn.microsoft.com/azure/ai-services/openai/how-to/switching-endpoints?WT.mc_id=academic-109527-jasmineg)\n",
        "\n",
        "For more quickstart examples please refer to the official [Azure OpenAI Quickstart Documentation](https://learn.microsoft.com/azure/cognitive-services/openai/quickstart?pivots=programming-language-studio&WT.mc_id=academic-105485-koreyst)"
      ]
    },
    {
      "attachments": {},
      "cell_type": "markdown",
      "metadata": {
        "nteract": {
          "transient": {
            "deleting": false
          }
        }
      },
      "source": [
        "## Table of Contents  \n",
        "\n",
        "[Overview](#overview)  \n",
        "[Getting started with Azure OpenAI Service](#getting-started-with-azure-openai-service)  \n",
        "[Build your first prompt](#build-your-first-prompt)  \n",
        "\n",
        "[Use Cases](#use-cases)    \n",
        "[1. Summarize Text](#summarize-text)  \n",
        "[2. Classify Text](#classify-text)  \n",
        "[3. Generate New Product Names](#generate-new-product-names)  \n",
        "[4. Fine Tune a Classifier](#fine-tune-a-classifier)  \n",
        "[5. Embeddings](#embeddings)\n",
        "\n",
        "[References](#references)"
      ]
    },
    {
      "attachments": {},
      "cell_type": "markdown",
      "metadata": {
        "nteract": {
          "transient": {
            "deleting": false
          }
        }
      },
      "source": [
        "### Getting started with Azure OpenAI Service\n",
        "\n",
        "New customers will need to [apply for access](https://aka.ms/oai/access?WT.mc_id=academic-105485-koreyst) to Azure OpenAI Service.  \n",
        "After approval is complete, customers can log into the Azure portal, create an Azure OpenAI Service resource, and start experimenting with models via the studio  \n",
        "\n",
        "[Great resource for getting started quickly](https://techcommunity.microsoft.com/blog/educatordeveloperblog/azure-openai-service-is-now-generally-available/3719177?WT.mc_id=academic-105485-koreyst)"
      ]
    },
    {
      "attachments": {},
      "cell_type": "markdown",
      "metadata": {
        "nteract": {
          "transient": {
            "deleting": false
          }
        }
      },
      "source": [
        "### Build your first prompt  \n",
        "This short exercise will provide a basic introduction for submitting prompts to an OpenAI model for a simple task \"summarization\".\n",
        "\n",
        "\n",
        "**Steps**:  \n",
        "1. Install OpenAI library in your python environment  \n",
        "2. Load standard helper libraries and set your typical OpenAI security credentials for the OpenAI Service that you've created  \n",
        "3. Choose a model for your task  \n",
        "4. Create a simple prompt for the model  \n",
        "5. Submit your request to the model API!"
      ]
    },
    {
      "attachments": {},
      "cell_type": "markdown",
      "metadata": {
        "nteract": {
          "transient": {
            "deleting": false
          }
        }
      },
      "source": [
        "### 1. Install OpenAI"
      ]
    },
    {
      "cell_type": "markdown",
      "metadata": {},
      "source": [
        "  > [!NOTE] This step is not necessary if run this notebook on Codespaces or within a Devcontainer"
      ]
    },
    {
      "cell_type": "code",
      "execution_count": 2,
      "metadata": {
        "gather": {
          "logged": 1674254990318
        },
        "jupyter": {
          "outputs_hidden": true,
          "source_hidden": false
        },
        "nteract": {
          "transient": {
            "deleting": false
          }
        }
      },
      "outputs": [
        {
          "name": "stdout",
          "output_type": "stream",
          "text": [
            "Collecting numpy\n",
            "  Downloading numpy-2.2.1-cp312-cp312-manylinux_2_17_x86_64.manylinux2014_x86_64.whl.metadata (62 kB)\n",
            "Downloading numpy-2.2.1-cp312-cp312-manylinux_2_17_x86_64.manylinux2014_x86_64.whl (16.1 MB)\n",
            "\u001b[2K   \u001b[90m━━━━━━━━━━━━━━━━━━━━━━━━━━━━━━━━━━━━━━━━\u001b[0m \u001b[32m16.1/16.1 MB\u001b[0m \u001b[31m58.6 MB/s\u001b[0m eta \u001b[36m0:00:00\u001b[0m:00:01\u001b[0m\n",
            "\u001b[?25hInstalling collected packages: numpy\n",
            "Successfully installed numpy-2.2.1\n",
            "Note: you may need to restart the kernel to use updated packages.\n"
          ]
        }
      ],
      "source": [
        "#%pip install openai python-dotenv\n",
        "\n",
        "%pip install numpy"
      ]
    },
    {
      "attachments": {},
      "cell_type": "markdown",
      "metadata": {
        "nteract": {
          "transient": {
            "deleting": false
          }
        }
      },
      "source": [
        "### 2. Import helper libraries and instantiate credentials"
      ]
    },
    {
      "cell_type": "code",
      "execution_count": 21,
      "metadata": {
        "gather": {
          "logged": 1674829434433
        },
        "jupyter": {
          "outputs_hidden": false,
          "source_hidden": false
        },
        "nteract": {
          "transient": {
            "deleting": false
          }
        }
      },
      "outputs": [],
      "source": [
        "import os\n",
        "from openai import AzureOpenAI\n",
        "import numpy as np\n",
        "from dotenv import load_dotenv\n",
        "load_dotenv()\n",
        "\n",
        "#validate data inside .env file\n",
        "\n",
        "client = AzureOpenAI(\n",
        "  api_key=os.environ['AZURE_OPENAI_API_KEY'],  # this is also the default, it can be omitted\n",
        "  api_version = \"2023-05-15\"\n",
        "  )"
      ]
    },
    {
      "attachments": {},
      "cell_type": "markdown",
      "metadata": {
        "nteract": {
          "transient": {
            "deleting": false
          }
        }
      },
      "source": [
        "### 3. Finding the right model  \n",
        "The GPT-3.5-turbo or GPT-4 models can understand and generate natural language. The service offers four model capabilities, each with different levels of power and speed suitable for different tasks. \n",
        "\n",
        "[Azure OpenAI models](https://learn.microsoft.com/azure/cognitive-services/openai/concepts/models?WT.mc_id=academic-105485-koreyst)\n"
      ]
    },
    {
      "cell_type": "code",
      "execution_count": 4,
      "metadata": {
        "gather": {
          "logged": 1674742720788
        },
        "jupyter": {
          "outputs_hidden": true,
          "source_hidden": false
        },
        "nteract": {
          "transient": {
            "deleting": false
          }
        }
      },
      "outputs": [],
      "source": [
        "# Select the General Purpose curie model for text\n",
        "model = os.environ['AZURE_OPENAI_DEPLOYMENT']"
      ]
    },
    {
      "attachments": {},
      "cell_type": "markdown",
      "metadata": {
        "nteract": {
          "transient": {
            "deleting": false
          }
        }
      },
      "source": [
        "## 4. Prompt Design  \n",
        "\n",
        "\"The magic of large language models is that by being trained to minimize this prediction error over vast quantities of text, the models end up learning concepts useful for these predictions. For example, they learn concepts like\"(1):\n",
        "\n",
        "* how to spell\n",
        "* how grammar works\n",
        "* how to paraphrase\n",
        "* how to answer questions\n",
        "* how to hold a conversation\n",
        "* how to write in many languages\n",
        "* how to code\n",
        "* etc.\n",
        "\n",
        "#### How to control a large language model  \n",
        "\"Of all the inputs to a large language model, by far the most influential is the text prompt(1).\n",
        "\n",
        "Large language models can be prompted to produce output in a few ways:\n",
        "\n",
        "- Instruction: Tell the model what you want\n",
        "- Completion: Induce the model to complete the beginning of what you want\n",
        "- Demonstration: Show the model what you want, with either:\n",
        "- A few examples in the prompt\n",
        "- Many hundreds or thousands of examples in a fine-tuning training dataset\n",
        "\n",
        "\n",
        "\n",
        "#### There are three basic guidelines to creating prompts:\n",
        "\n",
        "**Show and tell**. Make it clear what you want either through instructions, examples, or a combination of the two. If you want the model to rank a list of items in alphabetical order or to classify a paragraph by sentiment, show it that's what you want.\n",
        "\n",
        "**Provide quality data**. If you're trying to build a classifier or get the model to follow a pattern, make sure that there are enough examples. Be sure to proofread your examples — the model is usually smart enough to see through basic spelling mistakes and give you a response, but it also might assume this is intentional and it can affect the response.\n",
        "\n",
        "**Check your settings.** The temperature and top_p settings control how deterministic the model is in generating a response. If you're asking it for a response where there's only one right answer, then you'd want to set these lower. If you're looking for more diverse responses, then you might want to set them higher. The number one mistake people make with these settings is assuming that they're \"cleverness\" or \"creativity\" controls.\n",
        "\n",
        "\n",
        "Source: https://github.com/Azure/OpenAI/blob/main/How%20to/Completions.md"
      ]
    },
    {
      "attachments": {},
      "cell_type": "markdown",
      "metadata": {
        "nteract": {
          "transient": {
            "deleting": false
          }
        }
      },
      "source": [
        "image is creating your first text prompt!"
      ]
    },
    {
      "attachments": {},
      "cell_type": "markdown",
      "metadata": {
        "nteract": {
          "transient": {
            "deleting": false
          }
        }
      },
      "source": [
        "### 5. Submit!"
      ]
    },
    {
      "cell_type": "code",
      "execution_count": 5,
      "metadata": {
        "gather": {
          "logged": 1674494935186
        },
        "jupyter": {
          "outputs_hidden": false,
          "source_hidden": false
        },
        "nteract": {
          "transient": {
            "deleting": false
          }
        }
      },
      "outputs": [
        {
          "data": {
            "text/plain": [
              "\"As an AI language model, my job is to be neutral and to provide you with the best answers. Regarding the use of Oxford commas, it can depend on the style guide being followed and personal preference. Generally, the use of the Oxford comma can prevent ambiguity in a sentence, but some style guides may recommend omitting it in certain situations. It's important to be consistent in whichever choice you make throughout your writing.\""
            ]
          },
          "execution_count": 5,
          "metadata": {},
          "output_type": "execute_result"
        }
      ],
      "source": [
        "# Create your first prompt\n",
        "text_prompt = \"Should oxford commas always be used?\"\n",
        "\n",
        "response = client.chat.completions.create(\n",
        "  model=model,\n",
        "  messages = [{\"role\":\"system\", \"content\":\"You are a helpful assistant.\"},\n",
        "               {\"role\":\"user\",\"content\":text_prompt},])\n",
        "\n",
        "response.choices[0].message.content"
      ]
    },
    {
      "attachments": {},
      "cell_type": "markdown",
      "metadata": {
        "nteract": {
          "transient": {
            "deleting": false
          }
        }
      },
      "source": [
        "### Repeat the same call, how do the results compare?"
      ]
    },
    {
      "cell_type": "code",
      "execution_count": 6,
      "metadata": {
        "gather": {
          "logged": 1674494940872
        },
        "jupyter": {
          "outputs_hidden": false,
          "source_hidden": false
        },
        "nteract": {
          "transient": {
            "deleting": false
          }
        }
      },
      "outputs": [
        {
          "data": {
            "text/plain": [
              "\"As an AI language model, I don't have personal preferences, but according to most style guides and grammar experts, the use of Oxford commas (also known as serial commas) is a matter of style and may vary depending on the context, the audience, or the writer's preference. Some style guides, such as the Associated Press (AP), do not include them, while others, such as The Chicago Manual of Style, recommend them to avoid ambiguity. The best advice is to follow the guidelines of the style guide or the editorial policy of the publication you're writing for and be consistent throughout your text.\""
            ]
          },
          "execution_count": 6,
          "metadata": {},
          "output_type": "execute_result"
        }
      ],
      "source": [
        "\n",
        "response = client.chat.completions.create(\n",
        "  model=model,\n",
        "  messages = [{\"role\":\"system\", \"content\":\"You are a helpful assistant.\"},\n",
        "               {\"role\":\"user\",\"content\":text_prompt},])\n",
        "\n",
        "response.choices[0].message.content"
      ]
    },
    {
      "attachments": {},
      "cell_type": "markdown",
      "metadata": {
        "nteract": {
          "transient": {
            "deleting": false
          }
        }
      },
      "source": [
        "## Summarize Text  \n",
        "#### Challenge  \n",
        "Summarize text by adding a 'tl;dr:' to the end of a text passage. Notice how the model understands how to perform a number of tasks with no additional instructions. You can experiment with more descriptive prompts than tl;dr to modify the model’s behavior and customize the summarization you receive(3).  \n",
        "\n",
        "Recent work has demonstrated substantial gains on many NLP tasks and benchmarks by pre-training on a large corpus of text followed by fine-tuning on a specific task. While typically task-agnostic in architecture, this method still requires task-specific fine-tuning datasets of thousands or tens of thousands of examples. By contrast, humans can generally perform a new language task from only a few examples or from simple instructions - something that current NLP systems still largely struggle to do. Here we show that scaling up language models greatly improves task-agnostic, few-shot performance, sometimes even reaching competitiveness with prior state-of-the-art fine-tuning approaches. \n",
        "\n",
        "\n",
        "\n",
        "Tl;dr"
      ]
    },
    {
      "attachments": {},
      "cell_type": "markdown",
      "metadata": {
        "nteract": {
          "transient": {
            "deleting": false
          }
        }
      },
      "source": [
        "# Exercises for several use cases  \n",
        "1. Summarize Text  \n",
        "2. Classify Text  \n",
        "3. Generate New Product Names\n",
        "4. Embeddings\n",
        "5. Fine tune a classifier"
      ]
    },
    {
      "cell_type": "code",
      "execution_count": 7,
      "metadata": {
        "gather": {
          "logged": 1674495198534
        },
        "jupyter": {
          "outputs_hidden": false,
          "source_hidden": false
        },
        "nteract": {
          "transient": {
            "deleting": false
          }
        }
      },
      "outputs": [],
      "source": [
        "prompt = \"Recent work has demonstrated substantial gains on many NLP tasks and benchmarks by pre-training on a large corpus of text followed by fine-tuning on a specific task. While typically task-agnostic in architecture, this method still requires task-specific fine-tuning datasets of thousands or tens of thousands of examples. By contrast, humans can generally perform a new language task from only a few examples or from simple instructions - something that current NLP systems still largely struggle to do. Here we show that scaling up language models greatly improves task-agnostic, few-shot performance, sometimes even reaching competitiveness with prior state-of-the-art fine-tuning approaches.\\n\\ntl;dr\"\n"
      ]
    },
    {
      "cell_type": "code",
      "execution_count": 8,
      "metadata": {
        "gather": {
          "logged": 1674495201868
        },
        "jupyter": {
          "outputs_hidden": false,
          "source_hidden": false
        },
        "nteract": {
          "transient": {
            "deleting": false
          }
        }
      },
      "outputs": [
        {
          "data": {
            "text/plain": [
              "'Pre-training language models with a large corpus of text, followed by fine-tuning on specific tasks has shown significant improvement in NLP. However, humans can perform new language tasks with only a few examples, which current NLP systems struggle with. Scaling up language models improves few-shot performance, potentially replacing the need for large fine-tuning datasets.'"
            ]
          },
          "execution_count": 8,
          "metadata": {},
          "output_type": "execute_result"
        }
      ],
      "source": [
        "#Setting a few additional, typical parameters during API Call\n",
        "\n",
        "response = client.chat.completions.create(\n",
        "  model=model,\n",
        "  messages = [{\"role\":\"system\", \"content\":\"You are a helpful assistant.\"},\n",
        "               {\"role\":\"user\",\"content\":prompt},])\n",
        "\n",
        "response.choices[0].message.content"
      ]
    },
    {
      "attachments": {},
      "cell_type": "markdown",
      "metadata": {
        "nteract": {
          "transient": {
            "deleting": false
          }
        }
      },
      "source": [
        "## Classify Text  \n",
        "#### Challenge  \n",
        "Classify items into categories provided at inference time. In the following example, we provide both the categories and the text to classify in the prompt(*playground_reference). \n",
        "\n",
        "Customer Inquiry: Hello, one of the keys on my laptop keyboard broke recently and I'll need a replacement:\n",
        "\n",
        "Classified category:\n"
      ]
    },
    {
      "cell_type": "code",
      "execution_count": 9,
      "metadata": {
        "gather": {
          "logged": 1674499424645
        },
        "jupyter": {
          "outputs_hidden": false,
          "source_hidden": false
        },
        "nteract": {
          "transient": {
            "deleting": false
          }
        }
      },
      "outputs": [
        {
          "name": "stdout",
          "output_type": "stream",
          "text": [
            "Classify the following inquiry into one of the following: categories: [Pricing, Hardware Support, Software Support]\n",
            "\n",
            "inquiry: Hello, one of the keys on my laptop keyboard broke recently and I'll need a replacement:\n",
            "\n",
            "Classified category:\n"
          ]
        }
      ],
      "source": [
        "prompt = \"Classify the following inquiry into one of the following: categories: [Pricing, Hardware Support, Software Support]\\n\\ninquiry: Hello, one of the keys on my laptop keyboard broke recently and I'll need a replacement:\\n\\nClassified category:\"\n",
        "print(prompt)"
      ]
    },
    {
      "cell_type": "code",
      "execution_count": 10,
      "metadata": {
        "gather": {
          "logged": 1674499378518
        },
        "jupyter": {
          "outputs_hidden": false,
          "source_hidden": false
        },
        "nteract": {
          "transient": {
            "deleting": false
          }
        }
      },
      "outputs": [
        {
          "data": {
            "text/plain": [
              "'Hardware Support'"
            ]
          },
          "execution_count": 10,
          "metadata": {},
          "output_type": "execute_result"
        }
      ],
      "source": [
        "#Setting a few additional, typical parameters during API Call\n",
        "\n",
        "response = client.chat.completions.create(\n",
        "  model=model,\n",
        "  messages = [{\"role\":\"system\", \"content\":\"You are a helpful assistant.\"},\n",
        "               {\"role\":\"user\",\"content\":prompt},])\n",
        "\n",
        "response.choices[0].message.content"
      ]
    },
    {
      "attachments": {},
      "cell_type": "markdown",
      "metadata": {
        "nteract": {
          "transient": {
            "deleting": false
          }
        }
      },
      "source": [
        "## Generate New Product Names\n",
        "#### Challenge\n",
        "Create product names from examples words. Here we include in the prompt information about the product we are going to generate names for. We also provide a similar example to show the pattern we wish to receive. We have also set the temperature value high to increase randomness and more innovative responses.\n",
        "\n",
        "Product description: A home milkshake maker\n",
        "Seed words: fast, healthy, compact.\n",
        "Product names: HomeShaker, Fit Shaker, QuickShake, Shake Maker\n",
        "\n",
        "Product description: A pair of shoes that can fit any foot size.\n",
        "Seed words: adaptable, fit, omni-fit."
      ]
    },
    {
      "cell_type": "code",
      "execution_count": 11,
      "metadata": {
        "gather": {
          "logged": 1674257087279
        },
        "jupyter": {
          "outputs_hidden": false,
          "source_hidden": false
        },
        "nteract": {
          "transient": {
            "deleting": false
          }
        }
      },
      "outputs": [
        {
          "name": "stdout",
          "output_type": "stream",
          "text": [
            "Product description: A home milkshake maker\n",
            "Seed words: fast, healthy, compact.\n",
            "Product names: HomeShaker, Fit Shaker, QuickShake, Shake Maker\n",
            "\n",
            "Product description: A pair of shoes that can fit any foot size.\n",
            "Seed words: adaptable, fit, omni-fit.\n"
          ]
        }
      ],
      "source": [
        "prompt = \"Product description: A home milkshake maker\\nSeed words: fast, healthy, compact.\\nProduct names: HomeShaker, Fit Shaker, QuickShake, Shake Maker\\n\\nProduct description: A pair of shoes that can fit any foot size.\\nSeed words: adaptable, fit, omni-fit.\"\n",
        "\n",
        "print(prompt)"
      ]
    },
    {
      "cell_type": "code",
      "execution_count": 13,
      "metadata": {
        "jupyter": {
          "outputs_hidden": false,
          "source_hidden": false
        },
        "nteract": {
          "transient": {
            "deleting": false
          }
        }
      },
      "outputs": [
        {
          "data": {
            "text/plain": [
              "'Product names: PerfectFit Shoes, Omni-Fit Sneakers, FlexFit Footwear, AdaptaShoe'"
            ]
          },
          "execution_count": 13,
          "metadata": {},
          "output_type": "execute_result"
        }
      ],
      "source": [
        "#Setting a few additional, typical parameters during API Call\n",
        "\n",
        "response = client.chat.completions.create(\n",
        "  model=model,\n",
        "  messages = [{\"role\":\"system\", \"content\":\"You are a helpful assistant.\"},\n",
        "               {\"role\":\"user\",\"content\":prompt}])\n",
        "\n",
        "response.choices[0].message.content"
      ]
    },
    {
      "attachments": {},
      "cell_type": "markdown",
      "metadata": {
        "nteract": {
          "transient": {
            "deleting": false
          }
        }
      },
      "source": [
        "## Embeddings\n",
        "This section will show how to retrieve embeddings, and find similarities between words, sentences, and documents. In order to run the following noteboooks you need to deploy a model that uses `text-embedding-ada-002` as base model and set his deployment name inside .env file, using the `AZURE_OPENAI_EMBEDDINGS_DEPLOYMENT` variable."
      ]
    },
    {
      "attachments": {},
      "cell_type": "markdown",
      "metadata": {
        "nteract": {
          "transient": {
            "deleting": false
          }
        }
      },
      "source": [
        "### Model Taxonomy - Choosing an embedding model\n",
        "\n",
        "**Model taxonomy**: {family} - {capability} - {input-type} - {identifier}  \n",
        "\n",
        "{family}     --> text-embedding  (embeddings family)  \n",
        "{capability} --> ada             (all the other embedding models will be retired in 2024)  \n",
        "{input-type} --> n/a             (only specified for search models)  \n",
        "{identifier} --> 002             (version 002)  \n",
        "\n",
        "model = 'text-embedding-ada-002'"
      ]
    },
    {
      "cell_type": "markdown",
      "metadata": {},
      "source": [
        "  > [!NOTE] The following step is not necessary if run this notebook on Codespaces or within a Devcontainer"
      ]
    },
    {
      "cell_type": "code",
      "execution_count": 14,
      "metadata": {},
      "outputs": [
        {
          "name": "stdout",
          "output_type": "stream",
          "text": [
            "Collecting matplotlib\n",
            "  Downloading matplotlib-3.10.0-cp312-cp312-manylinux_2_17_x86_64.manylinux2014_x86_64.whl.metadata (11 kB)\n",
            "Collecting plotly\n",
            "  Downloading plotly-5.24.1-py3-none-any.whl.metadata (7.3 kB)\n",
            "Collecting scikit-learn\n",
            "  Downloading scikit_learn-1.6.0-cp312-cp312-manylinux_2_17_x86_64.manylinux2014_x86_64.whl.metadata (18 kB)\n",
            "Collecting pandas\n",
            "  Downloading pandas-2.2.3-cp312-cp312-manylinux_2_17_x86_64.manylinux2014_x86_64.whl.metadata (89 kB)\n",
            "Collecting contourpy>=1.0.1 (from matplotlib)\n",
            "  Downloading contourpy-1.3.1-cp312-cp312-manylinux_2_17_x86_64.manylinux2014_x86_64.whl.metadata (5.4 kB)\n",
            "Collecting cycler>=0.10 (from matplotlib)\n",
            "  Downloading cycler-0.12.1-py3-none-any.whl.metadata (3.8 kB)\n",
            "Collecting fonttools>=4.22.0 (from matplotlib)\n",
            "  Downloading fonttools-4.55.3-cp312-cp312-manylinux_2_5_x86_64.manylinux1_x86_64.manylinux_2_17_x86_64.manylinux2014_x86_64.whl.metadata (165 kB)\n",
            "Collecting kiwisolver>=1.3.1 (from matplotlib)\n",
            "  Downloading kiwisolver-1.4.8-cp312-cp312-manylinux_2_17_x86_64.manylinux2014_x86_64.whl.metadata (6.2 kB)\n",
            "Requirement already satisfied: numpy>=1.23 in /workspaces/generative-ai-for-beginners/.venv/lib/python3.12/site-packages (from matplotlib) (2.2.1)\n",
            "Requirement already satisfied: packaging>=20.0 in /workspaces/generative-ai-for-beginners/.venv/lib/python3.12/site-packages (from matplotlib) (24.2)\n",
            "Collecting pillow>=8 (from matplotlib)\n",
            "  Downloading pillow-11.1.0-cp312-cp312-manylinux_2_28_x86_64.whl.metadata (9.1 kB)\n",
            "Collecting pyparsing>=2.3.1 (from matplotlib)\n",
            "  Downloading pyparsing-3.2.1-py3-none-any.whl.metadata (5.0 kB)\n",
            "Requirement already satisfied: python-dateutil>=2.7 in /workspaces/generative-ai-for-beginners/.venv/lib/python3.12/site-packages (from matplotlib) (2.9.0.post0)\n",
            "Collecting tenacity>=6.2.0 (from plotly)\n",
            "  Downloading tenacity-9.0.0-py3-none-any.whl.metadata (1.2 kB)\n",
            "Collecting scipy>=1.6.0 (from scikit-learn)\n",
            "  Downloading scipy-1.15.0-cp312-cp312-manylinux_2_17_x86_64.manylinux2014_x86_64.whl.metadata (61 kB)\n",
            "Collecting joblib>=1.2.0 (from scikit-learn)\n",
            "  Downloading joblib-1.4.2-py3-none-any.whl.metadata (5.4 kB)\n",
            "Collecting threadpoolctl>=3.1.0 (from scikit-learn)\n",
            "  Downloading threadpoolctl-3.5.0-py3-none-any.whl.metadata (13 kB)\n",
            "Collecting pytz>=2020.1 (from pandas)\n",
            "  Downloading pytz-2024.2-py2.py3-none-any.whl.metadata (22 kB)\n",
            "Collecting tzdata>=2022.7 (from pandas)\n",
            "  Downloading tzdata-2024.2-py2.py3-none-any.whl.metadata (1.4 kB)\n",
            "Requirement already satisfied: six>=1.5 in /workspaces/generative-ai-for-beginners/.venv/lib/python3.12/site-packages (from python-dateutil>=2.7->matplotlib) (1.17.0)\n",
            "Downloading matplotlib-3.10.0-cp312-cp312-manylinux_2_17_x86_64.manylinux2014_x86_64.whl (8.6 MB)\n",
            "\u001b[2K   \u001b[90m━━━━━━━━━━━━━━━━━━━━━━━━━━━━━━━━━━━━━━━━\u001b[0m \u001b[32m8.6/8.6 MB\u001b[0m \u001b[31m45.3 MB/s\u001b[0m eta \u001b[36m0:00:00\u001b[0m\n",
            "\u001b[?25hDownloading plotly-5.24.1-py3-none-any.whl (19.1 MB)\n",
            "\u001b[2K   \u001b[90m━━━━━━━━━━━━━━━━━━━━━━━━━━━━━━━━━━━━━━━━\u001b[0m \u001b[32m19.1/19.1 MB\u001b[0m \u001b[31m53.7 MB/s\u001b[0m eta \u001b[36m0:00:00\u001b[0m:00:01\u001b[0m\n",
            "\u001b[?25hDownloading scikit_learn-1.6.0-cp312-cp312-manylinux_2_17_x86_64.manylinux2014_x86_64.whl (13.1 MB)\n",
            "\u001b[2K   \u001b[90m━━━━━━━━━━━━━━━━━━━━━━━━━━━━━━━━━━━━━━━━\u001b[0m \u001b[32m13.1/13.1 MB\u001b[0m \u001b[31m51.7 MB/s\u001b[0m eta \u001b[36m0:00:00\u001b[0m:00:01\u001b[0m\n",
            "\u001b[?25hDownloading pandas-2.2.3-cp312-cp312-manylinux_2_17_x86_64.manylinux2014_x86_64.whl (12.7 MB)\n",
            "\u001b[2K   \u001b[90m━━━━━━━━━━━━━━━━━━━━━━━━━━━━━━━━━━━━━━━━\u001b[0m \u001b[32m12.7/12.7 MB\u001b[0m \u001b[31m50.0 MB/s\u001b[0m eta \u001b[36m0:00:00\u001b[0m:00:01\u001b[0m\n",
            "\u001b[?25hDownloading contourpy-1.3.1-cp312-cp312-manylinux_2_17_x86_64.manylinux2014_x86_64.whl (323 kB)\n",
            "Downloading cycler-0.12.1-py3-none-any.whl (8.3 kB)\n",
            "Downloading fonttools-4.55.3-cp312-cp312-manylinux_2_5_x86_64.manylinux1_x86_64.manylinux_2_17_x86_64.manylinux2014_x86_64.whl (4.9 MB)\n",
            "\u001b[2K   \u001b[90m━━━━━━━━━━━━━━━━━━━━━━━━━━━━━━━━━━━━━━━━\u001b[0m \u001b[32m4.9/4.9 MB\u001b[0m \u001b[31m47.1 MB/s\u001b[0m eta \u001b[36m0:00:00\u001b[0m\n",
            "\u001b[?25hDownloading joblib-1.4.2-py3-none-any.whl (301 kB)\n",
            "Downloading kiwisolver-1.4.8-cp312-cp312-manylinux_2_17_x86_64.manylinux2014_x86_64.whl (1.5 MB)\n",
            "\u001b[2K   \u001b[90m━━━━━━━━━━━━━━━━━━━━━━━━━━━━━━━━━━━━━━━━\u001b[0m \u001b[32m1.5/1.5 MB\u001b[0m \u001b[31m34.7 MB/s\u001b[0m eta \u001b[36m0:00:00\u001b[0m\n",
            "\u001b[?25hDownloading pillow-11.1.0-cp312-cp312-manylinux_2_28_x86_64.whl (4.5 MB)\n",
            "\u001b[2K   \u001b[90m━━━━━━━━━━━━━━━━━━━━━━━━━━━━━━━━━━━━━━━━\u001b[0m \u001b[32m4.5/4.5 MB\u001b[0m \u001b[31m53.5 MB/s\u001b[0m eta \u001b[36m0:00:00\u001b[0m\n",
            "\u001b[?25hDownloading pyparsing-3.2.1-py3-none-any.whl (107 kB)\n",
            "Downloading pytz-2024.2-py2.py3-none-any.whl (508 kB)\n",
            "Downloading scipy-1.15.0-cp312-cp312-manylinux_2_17_x86_64.manylinux2014_x86_64.whl (40.3 MB)\n",
            "\u001b[2K   \u001b[90m━━━━━━━━━━━━━━━━━━━━━━━━━━━━━━━━━━━━━━━━\u001b[0m \u001b[32m40.3/40.3 MB\u001b[0m \u001b[31m53.7 MB/s\u001b[0m eta \u001b[36m0:00:00\u001b[0m:00:01\u001b[0m\n",
            "\u001b[?25hDownloading tenacity-9.0.0-py3-none-any.whl (28 kB)\n",
            "Downloading threadpoolctl-3.5.0-py3-none-any.whl (18 kB)\n",
            "Downloading tzdata-2024.2-py2.py3-none-any.whl (346 kB)\n",
            "Installing collected packages: pytz, tzdata, threadpoolctl, tenacity, scipy, pyparsing, pillow, kiwisolver, joblib, fonttools, cycler, contourpy, scikit-learn, plotly, pandas, matplotlib\n",
            "Successfully installed contourpy-1.3.1 cycler-0.12.1 fonttools-4.55.3 joblib-1.4.2 kiwisolver-1.4.8 matplotlib-3.10.0 pandas-2.2.3 pillow-11.1.0 plotly-5.24.1 pyparsing-3.2.1 pytz-2024.2 scikit-learn-1.6.0 scipy-1.15.0 tenacity-9.0.0 threadpoolctl-3.5.0 tzdata-2024.2\n",
            "Note: you may need to restart the kernel to use updated packages.\n"
          ]
        }
      ],
      "source": [
        "# Dependencies for embeddings_utils\n",
        "%pip install matplotlib plotly scikit-learn pandas"
      ]
    },
    {
      "cell_type": "code",
      "execution_count": 15,
      "metadata": {
        "gather": {
          "logged": 1674829364153
        },
        "jupyter": {
          "outputs_hidden": false,
          "source_hidden": false
        },
        "nteract": {
          "transient": {
            "deleting": false
          }
        }
      },
      "outputs": [],
      "source": [
        "def cosine_similarity(a, b):\n",
        "    return np.dot(a, b) / (np.linalg.norm(a) * np.linalg.norm(b))"
      ]
    },
    {
      "cell_type": "code",
      "execution_count": 24,
      "metadata": {
        "gather": {
          "logged": 1674829424097
        },
        "jupyter": {
          "outputs_hidden": false,
          "source_hidden": false
        },
        "nteract": {
          "transient": {
            "deleting": false
          }
        }
      },
      "outputs": [
        {
          "name": "stdout",
          "output_type": "stream",
          "text": [
            "text-embedding-3-small\n"
          ]
        },
        {
          "data": {
            "text/plain": [
              "[-0.03586992248892784,\n",
              " 0.024816399440169334,\n",
              " -0.0015479084104299545,\n",
              " -0.012715703807771206,\n",
              " -0.007429960183799267,\n",
              " -0.02310435101389885,\n",
              " -0.0033513775561004877,\n",
              " 0.007932770997285843,\n",
              " -0.011045209132134914,\n",
              " 0.0055890921503305435,\n",
              " -0.003424098016694188,\n",
              " 0.02298799902200699,\n",
              " -0.012931788340210915,\n",
              " -0.009374715387821198,\n",
              " 0.08337512612342834,\n",
              " 0.03414124995470047,\n",
              " -0.006353696342557669,\n",
              " -0.016522103920578957,\n",
              " -0.03989240527153015,\n",
              " 0.045277878642082214,\n",
              " 0.020378369837999344,\n",
              " 0.010338781401515007,\n",
              " 0.030750395730137825,\n",
              " 0.006062814500182867,\n",
              " -0.010480066761374474,\n",
              " 0.004005862399935722,\n",
              " -0.039626456797122955,\n",
              " 0.030700528994202614,\n",
              " 0.0740668997168541,\n",
              " -0.031032966449856758,\n",
              " -0.02099337801337242,\n",
              " -0.048502516001462936,\n",
              " 0.04913414642214775,\n",
              " -0.06861493736505508,\n",
              " 0.03163135424256325,\n",
              " 0.034108005464076996,\n",
              " 0.054985031485557556,\n",
              " 0.002428865758702159,\n",
              " 0.028473204001784325,\n",
              " -0.04913414642214775,\n",
              " -0.023868955671787262,\n",
              " 0.013156183063983917,\n",
              " 0.03355948626995087,\n",
              " 0.03066728636622429,\n",
              " -0.006004638038575649,\n",
              " 0.008348316885530949,\n",
              " -0.05678018927574158,\n",
              " 0.005314831621944904,\n",
              " 0.039925649762153625,\n",
              " 0.04644140973687172,\n",
              " 0.015990205109119415,\n",
              " 0.011676839552819729,\n",
              " -0.006120990961790085,\n",
              " 0.08370756357908249,\n",
              " 0.01770225539803505,\n",
              " 0.0016788053326308727,\n",
              " -0.034540172666311264,\n",
              " 0.0708090215921402,\n",
              " 0.005256655625998974,\n",
              " 0.010729394853115082,\n",
              " 0.04238567873835564,\n",
              " -0.006573935970664024,\n",
              " 0.01770225539803505,\n",
              " 0.01835050620138645,\n",
              " -0.00881788320839405,\n",
              " 0.002329134615138173,\n",
              " -0.037532102316617966,\n",
              " 0.02862280048429966,\n",
              " -0.028340229764580727,\n",
              " -0.024517206475138664,\n",
              " 0.03136540204286575,\n",
              " 0.004429718945175409,\n",
              " -0.02671128883957863,\n",
              " 0.033875301480293274,\n",
              " 0.03965969756245613,\n",
              " -0.004521139431744814,\n",
              " -0.02243947796523571,\n",
              " 0.024799779057502747,\n",
              " 0.0023935441859066486,\n",
              " -0.011934477835893631,\n",
              " 0.04561031609773636,\n",
              " 0.02940402738749981,\n",
              " -0.059439681470394135,\n",
              " -0.028888748958706856,\n",
              " -0.013455376029014587,\n",
              " 0.00972377322614193,\n",
              " -0.08975791186094284,\n",
              " 0.01577412150800228,\n",
              " -0.006241498980671167,\n",
              " -0.027409406378865242,\n",
              " -0.023137595504522324,\n",
              " 0.0014990817289799452,\n",
              " 0.0067235324531793594,\n",
              " 0.0015936184208840132,\n",
              " 0.005913218017667532,\n",
              " -0.005564159248024225,\n",
              " -0.052292294800281525,\n",
              " 0.006066970061510801,\n",
              " -0.015998516231775284,\n",
              " -0.01889902725815773,\n",
              " 0.02759224735200405,\n",
              " -0.018450237810611725,\n",
              " 0.004716445691883564,\n",
              " -0.009108765982091427,\n",
              " 0.004778777714818716,\n",
              " 0.04740547388792038,\n",
              " -0.022339746356010437,\n",
              " -0.045277878642082214,\n",
              " -0.05814317986369133,\n",
              " 0.04288433492183685,\n",
              " -0.057578038424253464,\n",
              " 0.003305667545646429,\n",
              " 0.010222428478300571,\n",
              " 0.04876846447587013,\n",
              " 0.03055093251168728,\n",
              " -0.022472720593214035,\n",
              " 0.0633956789970398,\n",
              " -0.044613007456064224,\n",
              " 0.017486169934272766,\n",
              " -0.026678046211600304,\n",
              " 0.01830064132809639,\n",
              " 0.01974674127995968,\n",
              " 0.0145773496478796,\n",
              " -0.05658072605729103,\n",
              " -0.004965773317962885,\n",
              " -0.026196012273430824,\n",
              " -0.05082957074046135,\n",
              " -0.031647972762584686,\n",
              " -0.021691495552659035,\n",
              " -0.00045632131514139473,\n",
              " 0.04507841914892197,\n",
              " -0.006544847507029772,\n",
              " -0.03297772258520126,\n",
              " -0.02862280048429966,\n",
              " -0.07931939512491226,\n",
              " 0.014120249077677727,\n",
              " -0.00667366711422801,\n",
              " 0.05618180334568024,\n",
              " -0.07333553582429886,\n",
              " 0.03583667799830437,\n",
              " 0.04025808349251747,\n",
              " -0.011568797752261162,\n",
              " 0.013580039143562317,\n",
              " 0.007276208605617285,\n",
              " -0.0215418990701437,\n",
              " -0.030800260603427887,\n",
              " -0.02795792743563652,\n",
              " 0.0014751878334209323,\n",
              " -0.009540933184325695,\n",
              " 0.028589555993676186,\n",
              " -0.02149203233420849,\n",
              " 0.046707358211278915,\n",
              " -0.032794881612062454,\n",
              " -0.0037295243237167597,\n",
              " -0.0019208608428016305,\n",
              " -0.008485446684062481,\n",
              " 0.029719840735197067,\n",
              " 0.021575141698122025,\n",
              " -0.03497233986854553,\n",
              " -0.0007864205981604755,\n",
              " -0.009274983778595924,\n",
              " -0.032262980937957764,\n",
              " 0.0011167795164510608,\n",
              " -0.005281588062644005,\n",
              " -0.0270104818046093,\n",
              " 0.013488619588315487,\n",
              " 0.01518404670059681,\n",
              " -0.017419682815670967,\n",
              " -0.040058623999357224,\n",
              " 0.004126370418816805,\n",
              " 0.0010918468469753861,\n",
              " -0.0337090827524662,\n",
              " -0.048037104308605194,\n",
              " 0.011510620824992657,\n",
              " -0.05372177064418793,\n",
              " 0.026611559092998505,\n",
              " 0.014776811935007572,\n",
              " -0.008502068929374218,\n",
              " -0.051261741667985916,\n",
              " 0.058641836047172546,\n",
              " 0.024334367364645004,\n",
              " 0.06735167652368546,\n",
              " -0.00343448668718338,\n",
              " 0.0199794452637434,\n",
              " -0.01284036785364151,\n",
              " -0.01110338605940342,\n",
              " 0.031232427805662155,\n",
              " 0.0043258327059447765,\n",
              " -0.02057783305644989,\n",
              " -0.02340354397892952,\n",
              " -0.027575625106692314,\n",
              " 0.015400130301713943,\n",
              " 0.05305689945816994,\n",
              " -0.028107523918151855,\n",
              " -0.008211187086999416,\n",
              " -0.035072073340415955,\n",
              " 0.01626446656882763,\n",
              " -0.008975790813565254,\n",
              " -0.0002491976774763316,\n",
              " 0.03949348255991936,\n",
              " 0.05328960344195366,\n",
              " 0.0460757277905941,\n",
              " -0.006769242230802774,\n",
              " 0.004753844812512398,\n",
              " -0.0706760436296463,\n",
              " -0.02214028500020504,\n",
              " -0.07220525294542313,\n",
              " 0.007907838560640812,\n",
              " -0.01745292730629444,\n",
              " -0.07134091854095459,\n",
              " 0.05023118481040001,\n",
              " -0.04069025442004204,\n",
              " -0.01859983429312706,\n",
              " -0.04218621924519539,\n",
              " -0.035670459270477295,\n",
              " -0.017236843705177307,\n",
              " 0.01313956081867218,\n",
              " 0.020311882719397545,\n",
              " -0.0021338281221687794,\n",
              " 0.010430201888084412,\n",
              " -0.0166301466524601,\n",
              " 0.0383964404463768,\n",
              " 0.08776328712701797,\n",
              " 0.015400130301713943,\n",
              " 0.00051216030260548,\n",
              " 0.03444044291973114,\n",
              " 0.03733264282345772,\n",
              " -0.016571970656514168,\n",
              " -0.011884612031280994,\n",
              " -0.05621504783630371,\n",
              " 0.07247120141983032,\n",
              " 0.004458807408809662,\n",
              " 0.0030293294694274664,\n",
              " -0.0031913924030959606,\n",
              " 0.025647491216659546,\n",
              " -0.0003649012360256165,\n",
              " -0.019281329587101936,\n",
              " -0.0017504870193079114,\n",
              " -0.0216083861887455,\n",
              " -0.010671217925846577,\n",
              " -0.046474650502204895,\n",
              " -0.025032484903931618,\n",
              " 0.04614221304655075,\n",
              " 0.011892923153936863,\n",
              " -0.010837436653673649,\n",
              " 0.016065003350377083,\n",
              " 2.6004081519204192e-05,\n",
              " -0.03906131163239479,\n",
              " -0.017012448981404305,\n",
              " 0.038130491971969604,\n",
              " 0.017918338999152184,\n",
              " 0.0037399129942059517,\n",
              " -0.04391488805413246,\n",
              " -0.044845711439847946,\n",
              " 0.038064002990722656,\n",
              " 0.005181857384741306,\n",
              " -0.012940098531544209,\n",
              " 0.05149444565176964,\n",
              " 0.06306324154138565,\n",
              " -0.0031768481712788343,\n",
              " -0.025248568505048752,\n",
              " -0.03636857494711876,\n",
              " -0.04241892322897911,\n",
              " -0.02825712040066719,\n",
              " -0.030135387554764748,\n",
              " 0.016455616801977158,\n",
              " 0.04800385981798172,\n",
              " 0.006266431882977486,\n",
              " 0.040590520948171616,\n",
              " -0.034174494445323944,\n",
              " -0.007242964580655098,\n",
              " 0.025464652106165886,\n",
              " 0.02652844972908497,\n",
              " 0.022605696693062782,\n",
              " -0.05322311818599701,\n",
              " 0.05332284793257713,\n",
              " 0.018034690991044044,\n",
              " 0.012865300290286541,\n",
              " -0.015134180895984173,\n",
              " 0.07945237308740616,\n",
              " -0.042086485773324966,\n",
              " 0.007704220712184906,\n",
              " 0.01550817210227251,\n",
              " -0.017353195697069168,\n",
              " -0.07725828886032104,\n",
              " -0.01830064132809639,\n",
              " -0.0011458677472546697,\n",
              " -0.002389388857409358,\n",
              " 0.03329353779554367,\n",
              " 0.008925925940275192,\n",
              " 0.03600289672613144,\n",
              " -0.0025431409012526274,\n",
              " 0.03882860764861107,\n",
              " -0.006004638038575649,\n",
              " -0.034540172666311264,\n",
              " 0.03427422419190407,\n",
              " 0.043349746614694595,\n",
              " -0.025630870833992958,\n",
              " 0.02455045096576214,\n",
              " -0.010031277313828468,\n",
              " 0.024683425202965736,\n",
              " 0.0033513775561004877,\n",
              " -0.0028153234161436558,\n",
              " -0.03209676221013069,\n",
              " 0.005771932192146778,\n",
              " 0.0463416762650013,\n",
              " 0.010937167331576347,\n",
              " -0.024616938084363937,\n",
              " 0.008942547254264355,\n",
              " -0.05365528538823128,\n",
              " -0.021857714280486107,\n",
              " 0.013571728952229023,\n",
              " -0.019065245985984802,\n",
              " 0.013638216070830822,\n",
              " -0.04537761211395264,\n",
              " -0.06578922271728516,\n",
              " 0.03942699357867241,\n",
              " 0.08443892002105713,\n",
              " -0.0146105932071805,\n",
              " -0.0770588293671608,\n",
              " 0.0663876086473465,\n",
              " -0.024334367364645004,\n",
              " 0.05282419174909592,\n",
              " -0.01758590154349804,\n",
              " -0.004421408288180828,\n",
              " -0.018433615565299988,\n",
              " -0.0015790743054822087,\n",
              " 0.00792030431330204,\n",
              " 0.02531505562365055,\n",
              " -6.626008689636365e-05,\n",
              " -0.02243947796523571,\n",
              " -0.03089999221265316,\n",
              " 0.00929991714656353,\n",
              " 0.005975549574941397,\n",
              " 0.06685302406549454,\n",
              " -0.011178184300661087,\n",
              " -0.008527001366019249,\n",
              " 0.05648099631071091,\n",
              " -0.02514883689582348,\n",
              " 0.0032890457659959793,\n",
              " -1.628907375561539e-05,\n",
              " -0.03533802181482315,\n",
              " -0.023503275588154793,\n",
              " -0.010721083730459213,\n",
              " 0.03066728636622429,\n",
              " -0.03503882884979248,\n",
              " -0.007010259199887514,\n",
              " 0.041421614587306976,\n",
              " 0.01914835348725319,\n",
              " 0.029503757134079933,\n",
              " -0.008169632405042648,\n",
              " 0.025248568505048752,\n",
              " 0.034340713173151016,\n",
              " -0.02526518888771534,\n",
              " 0.029537001624703407,\n",
              " -0.04890143871307373,\n",
              " 0.004512828309088945,\n",
              " 0.018284019082784653,\n",
              " 0.011768259108066559,\n",
              " 0.022406233474612236,\n",
              " 0.001969687407836318,\n",
              " -0.005896596238017082,\n",
              " 0.008842816576361656,\n",
              " 0.024151526391506195,\n",
              " -0.0013370189117267728,\n",
              " 0.013322400860488415,\n",
              " -0.04042430222034454,\n",
              " 0.02809090167284012,\n",
              " 0.03083350509405136,\n",
              " -0.0032121697440743446,\n",
              " -0.007936926558613777,\n",
              " 0.02124270610511303,\n",
              " 0.008842816576361656,\n",
              " 0.011028587818145752,\n",
              " -0.033758945763111115,\n",
              " 0.0038687321357429028,\n",
              " -0.013006586581468582,\n",
              " 0.0312989167869091,\n",
              " 0.012940098531544209,\n",
              " 0.02021215111017227,\n",
              " 0.004654113668948412,\n",
              " 0.014161803759634495,\n",
              " -0.013696392066776752,\n",
              " -0.00965728610754013,\n",
              " 0.013289157301187515,\n",
              " -0.0016351731028407812,\n",
              " 0.007434115745127201,\n",
              " 0.013787812553346157,\n",
              " 0.029553623870015144,\n",
              " -0.03533802181482315,\n",
              " 0.0383964404463768,\n",
              " 0.0007801873725838959,\n",
              " -0.015134180895984173,\n",
              " 0.02910483442246914,\n",
              " 0.021674873307347298,\n",
              " 0.027143457904458046,\n",
              " 0.03222974017262459,\n",
              " 0.0355374850332737,\n",
              " 0.007612800691276789,\n",
              " 0.019530655816197395,\n",
              " 0.05591585487127304,\n",
              " 0.001144828856922686,\n",
              " -0.049233876168727875,\n",
              " -0.0029399872291833162,\n",
              " -0.013987274840474129,\n",
              " -0.012383267283439636,\n",
              " -0.035138558596372604,\n",
              " 0.008107299916446209,\n",
              " 0.007089212536811829,\n",
              " -0.024400854483246803,\n",
              " 0.0661216601729393,\n",
              " -0.014087005518376827,\n",
              " 0.05059686675667763,\n",
              " 0.022406233474612236,\n",
              " -0.004059883300215006,\n",
              " -0.01203420851379633,\n",
              " 0.024450719356536865,\n",
              " 0.03680074214935303,\n",
              " -0.006158390082418919,\n",
              " -0.017303330823779106,\n",
              " -0.05628153309226036,\n",
              " -0.0020860403310507536,\n",
              " -0.020677562803030014,\n",
              " -0.008601799607276917,\n",
              " -0.014485929161310196,\n",
              " 0.06745140999555588,\n",
              " 0.023918820545077324,\n",
              " -0.02609628066420555,\n",
              " 0.008015880361199379,\n",
              " -0.03342651203274727,\n",
              " -0.016181357204914093,\n",
              " -0.025647491216659546,\n",
              " -0.029537001624703407,\n",
              " 0.026378853246569633,\n",
              " 0.007155700121074915,\n",
              " -0.02016228623688221,\n",
              " -0.027326297014951706,\n",
              " 0.05990509316325188,\n",
              " 0.028473204001784325,\n",
              " -0.0369669608771801,\n",
              " -0.018433615565299988,\n",
              " -0.005651424173265696,\n",
              " -0.01992958039045334,\n",
              " -0.032961100339889526,\n",
              " 0.01620628871023655,\n",
              " -0.0017660700250416994,\n",
              " 0.024932753294706345,\n",
              " 0.028306985273957253,\n",
              " 0.008431426249444485,\n",
              " -0.041321881115436554,\n",
              " 0.0024434097576886415,\n",
              " 0.021408922970294952,\n",
              " -0.03414124995470047,\n",
              " -0.03942699357867241,\n",
              " -0.02976970747113228,\n",
              " 0.02556438185274601,\n",
              " 0.0019447547383606434,\n",
              " 0.019347816705703735,\n",
              " 0.0068315742537379265,\n",
              " -0.014053761959075928,\n",
              " 0.011834747157990932,\n",
              " -0.034540172666311264,\n",
              " -0.014352954924106598,\n",
              " 0.0037606903351843357,\n",
              " -0.02119283936917782,\n",
              " -0.06914683431386948,\n",
              " 0.013796123676002026,\n",
              " 0.027492515742778778,\n",
              " 0.04301730915904045,\n",
              " -0.02184109203517437,\n",
              " 0.020744049921631813,\n",
              " 0.0034677304793149233,\n",
              " -0.022838402539491653,\n",
              " -0.010704461485147476,\n",
              " 0.0011853446485474706,\n",
              " 0.021442167460918427,\n",
              " -0.0037336796522140503,\n",
              " -0.007018569856882095,\n",
              " -0.00553507125005126,\n",
              " -0.05561666190624237,\n",
              " 0.025065727531909943,\n",
              " -0.01583229750394821,\n",
              " -0.050430648028850555,\n",
              " 0.017602523788809776,\n",
              " -0.004224023781716824,\n",
              " 0.10890626162290573,\n",
              " 0.02604641579091549,\n",
              " -0.029320918023586273,\n",
              " 0.003143604611977935,\n",
              " 0.008635043166577816,\n",
              " 0.003075039479881525,\n",
              " 0.006000482477247715,\n",
              " 0.042152974754571915,\n",
              " -0.0223231241106987,\n",
              " -0.030750395730137825,\n",
              " -0.0010752249509096146,\n",
              " -0.031647972762584686,\n",
              " -0.03208014369010925,\n",
              " 0.013688080944120884,\n",
              " -0.07127442955970764,\n",
              " 0.03809724748134613,\n",
              " 0.005605713929980993,\n",
              " -0.028057657182216644,\n",
              " 0.025581004098057747,\n",
              " 0.06761762499809265,\n",
              " -0.013704703189432621,\n",
              " 0.011660217307507992,\n",
              " 0.03892833739519119,\n",
              " -0.0022875801660120487,\n",
              " 0.01608162559568882,\n",
              " 0.0022751137148588896,\n",
              " -0.01795158162713051,\n",
              " 0.006839885376393795,\n",
              " -0.0035092849284410477,\n",
              " -0.03517180308699608,\n",
              " 0.0169875156134367,\n",
              " -0.05112876370549202,\n",
              " 0.04175405204296112,\n",
              " -0.03259541839361191,\n",
              " -0.01901537925004959,\n",
              " -0.029304295778274536,\n",
              " 0.04049079120159149,\n",
              " 0.015765810385346413,\n",
              " -0.03367583826184273,\n",
              " -0.009491068311035633,\n",
              " -0.036933716386556625,\n",
              " -0.018200909718871117,\n",
              " -0.022755293175578117,\n",
              " -0.008211187086999416,\n",
              " -0.012591040693223476,\n",
              " 0.01853334717452526,\n",
              " -0.03859589993953705,\n",
              " 0.048502516001462936,\n",
              " 0.028772396966814995,\n",
              " -0.01259935088455677,\n",
              " -0.0023249792866408825,\n",
              " -0.012582729570567608,\n",
              " 0.007159855682402849,\n",
              " 0.011552175506949425,\n",
              " -0.0006113718845881522,\n",
              " 0.01733657345175743,\n",
              " 0.03427422419190407,\n",
              " -0.0022439477033913136,\n",
              " 0.004508672747761011,\n",
              " -0.026245877146720886,\n",
              " 0.00792030431330204,\n",
              " -0.013222670182585716,\n",
              " -0.011053520254790783,\n",
              " 0.0008617382845841348,\n",
              " 0.010604730807244778,\n",
              " 0.022240014746785164,\n",
              " -0.04471273720264435,\n",
              " -0.0017151656793430448,\n",
              " 0.01110338605940342,\n",
              " -0.016829608008265495,\n",
              " -0.013039830140769482,\n",
              " -0.006819108035415411,\n",
              " -0.012724014930427074,\n",
              " 0.0051029035821557045,\n",
              " 0.013463686220347881,\n",
              " -0.0006524070631712675,\n",
              " -0.03497233986854553,\n",
              " 0.02209041826426983,\n",
              " 0.011693460866808891,\n",
              " -0.039393749088048935,\n",
              " 0.011169873178005219,\n",
              " -0.02759224735200405,\n",
              " 0.017536036670207977,\n",
              " 0.03251231089234352,\n",
              " -0.013164493255317211,\n",
              " 0.005842575337737799,\n",
              " 0.029653353616595268,\n",
              " -0.0037399129942059517,\n",
              " -0.0030521845910698175,\n",
              " -0.016896095126867294,\n",
              " -0.03247906640172005,\n",
              " 0.028240498155355453,\n",
              " -0.00698948185890913,\n",
              " -0.03392516449093819,\n",
              " 0.011319469660520554,\n",
              " -0.0004277525295037776,\n",
              " 0.03523829206824303,\n",
              " -0.0031934701837599277,\n",
              " 0.03066728636622429,\n",
              " -0.018200909718871117,\n",
              " 0.023868955671787262,\n",
              " 0.016106558963656425,\n",
              " -0.037465617060661316,\n",
              " -0.027409406378865242,\n",
              " -0.015807365998625755,\n",
              " 0.06509111076593399,\n",
              " -0.0017785363597795367,\n",
              " -0.002933753887191415,\n",
              " 0.03347637504339218,\n",
              " 0.020561210811138153,\n",
              " 0.01364652719348669,\n",
              " 0.00123417132999748,\n",
              " -0.04630843177437782,\n",
              " -0.03173108398914337,\n",
              " -0.0069811707362532616,\n",
              " 0.013339023105800152,\n",
              " -0.03846292570233345,\n",
              " 0.023885577917099,\n",
              " -0.011867990717291832,\n",
              " 0.011311158537864685,\n",
              " 0.020062554627656937,\n",
              " 0.0191317331045866,\n",
              " 0.0035861609503626823,\n",
              " 0.003322289325296879,\n",
              " -0.007213876582682133,\n",
              " -0.007134922780096531,\n",
              " 0.004184546880424023,\n",
              " 0.0067235324531793594,\n",
              " -0.0030791950412094593,\n",
              " -0.019647009670734406,\n",
              " -0.006320452783256769,\n",
              " -0.02243947796523571,\n",
              " 0.02322070486843586,\n",
              " -0.005381319206207991,\n",
              " 0.010239050723612309,\n",
              " -0.0145773496478796,\n",
              " 0.0028153234161436558,\n",
              " 0.03414124995470047,\n",
              " 0.036568038165569305,\n",
              " -0.018034690991044044,\n",
              " 0.025813709944486618,\n",
              " 0.0012476765550673008,\n",
              " -0.03965969756245613,\n",
              " 0.03340988978743553,\n",
              " 0.011577107943594456,\n",
              " -0.015100937336683273,\n",
              " 0.00926667358726263,\n",
              " 0.0355374850332737,\n",
              " -0.02717670053243637,\n",
              " -0.05129498243331909,\n",
              " -0.017785362899303436,\n",
              " 0.059074003249406815,\n",
              " -0.012433133088052273,\n",
              " 0.0026220944710075855,\n",
              " -0.021325815469026566,\n",
              " 0.02237299084663391,\n",
              " -0.00521925650537014,\n",
              " 0.015857230871915817,\n",
              " -0.044978685677051544,\n",
              " 0.033459752798080444,\n",
              " -0.0199129581451416,\n",
              " 0.013297468423843384,\n",
              " 0.012350023724138737,\n",
              " -0.01830064132809639,\n",
              " 0.0005407290882430971,\n",
              " 0.027559002861380577,\n",
              " 0.013787812553346157,\n",
              " 0.034041520208120346,\n",
              " -0.00017102310084737837,\n",
              " 0.010887302458286285,\n",
              " -0.02513221465051174,\n",
              " -0.04474598169326782,\n",
              " -0.015749188140034676,\n",
              " -0.02988605946302414,\n",
              " -0.020594453439116478,\n",
              " 0.0010097764898091555,\n",
              " 0.024101661518216133,\n",
              " 0.009175253100693226,\n",
              " -0.0315648652613163,\n",
              " -0.021525276824831963,\n",
              " 0.02423463575541973,\n",
              " -0.019597142934799194,\n",
              " -0.06332919001579285,\n",
              " -0.00380224478431046,\n",
              " -0.002536907559260726,\n",
              " -0.034340713173151016,\n",
              " 0.05561666190624237,\n",
              " 0.03179756924510002,\n",
              " 0.022705426439642906,\n",
              " 0.04388164356350899,\n",
              " 0.031282294541597366,\n",
              " 0.006191633641719818,\n",
              " -0.06665355712175369,\n",
              " -0.016596902161836624,\n",
              " 0.0004996939096599817,\n",
              " -0.003235024632886052,\n",
              " 0.01841699331998825,\n",
              " -0.008153010159730911,\n",
              " -1.2912763850181364e-05,\n",
              " 0.008502068929374218,\n",
              " 0.01341382134705782,\n",
              " 0.012150561437010765,\n",
              " 0.044014621526002884,\n",
              " -0.000947964028455317,\n",
              " -0.004832798615098,\n",
              " -0.0214754119515419,\n",
              " -0.001394156483002007,\n",
              " 0.0222566369920969,\n",
              " -0.004953307099640369,\n",
              " 0.012981653213500977,\n",
              " -0.05837588384747505,\n",
              " 0.018450237810611725,\n",
              " 0.007945237681269646,\n",
              " -0.010687840171158314,\n",
              " -0.007109989877790213,\n",
              " 0.007213876582682133,\n",
              " -0.01655534841120243,\n",
              " -0.05179363861680031,\n",
              " -0.01883254013955593,\n",
              " -0.027824953198432922,\n",
              " 0.005186012480407953,\n",
              " -0.00014427232963498682,\n",
              " 0.0123666450381279,\n",
              " 0.03955996781587601,\n",
              " 0.006212410982698202,\n",
              " -0.024916131049394608,\n",
              " 0.01848348043859005,\n",
              " -0.03616911545395851,\n",
              " -0.029553623870015144,\n",
              " 0.004953307099640369,\n",
              " 0.012815435416996479,\n",
              " -0.010355403646826744,\n",
              " -0.012823745608329773,\n",
              " -0.007122456561774015,\n",
              " -0.02478315681219101,\n",
              " -0.015558037906885147,\n",
              " 0.01019749604165554,\n",
              " -0.012923477217555046,\n",
              " -0.028273742645978928,\n",
              " 0.005875818897038698,\n",
              " -0.01692933961749077,\n",
              " 0.013812744989991188,\n",
              " -0.013147871941328049,\n",
              " 0.010538243688642979,\n",
              " 0.024932753294706345,\n",
              " -0.004778777714818716,\n",
              " 0.00912538729608059,\n",
              " 0.0324125774204731,\n",
              " -0.018998757004737854,\n",
              " -0.003087505931034684,\n",
              " 0.03166459500789642,\n",
              " -0.034473687410354614,\n",
              " -0.009640664793550968,\n",
              " 0.017186976969242096,\n",
              " 0.002040330320596695,\n",
              " -0.022240014746785164,\n",
              " -0.01584060862660408,\n",
              " 0.024218013510107994,\n",
              " -0.005564159248024225,\n",
              " 0.01776874251663685,\n",
              " 0.019347816705703735,\n",
              " -0.0028527225367724895,\n",
              " 0.011003655381500721,\n",
              " -0.021558521315455437,\n",
              " -0.010072831995785236,\n",
              " -0.034240979701280594,\n",
              " 0.015757499262690544,\n",
              " -0.0032516466453671455,\n",
              " -0.030617421492934227,\n",
              " -0.03025173954665661,\n",
              " -0.018815917894244194,\n",
              " 0.0035653836093842983,\n",
              " -0.007139078341424465,\n",
              " 0.02519870176911354,\n",
              " 0.05358879640698433,\n",
              " -0.013621593825519085,\n",
              " 0.00025426215142942965,\n",
              " 0.013671459630131721,\n",
              " 0.011926166713237762,\n",
              " -0.03906131163239479,\n",
              " -0.022572452202439308,\n",
              " 0.0019530656281858683,\n",
              " 0.021209461614489555,\n",
              " -0.010970410890877247,\n",
              " -0.008659976534545422,\n",
              " -0.010903923772275448,\n",
              " -0.04388164356350899,\n",
              " 0.012084074318408966,\n",
              " 0.014286467805504799,\n",
              " 0.0032682684250175953,\n",
              " -0.0022771914955228567,\n",
              " -0.045809779316186905,\n",
              " 0.01992958039045334,\n",
              " 0.01746954955160618,\n",
              " 0.0176357664167881,\n",
              " -0.007193099241703749,\n",
              " 0.0009443280287086964,\n",
              " -0.03367583826184273,\n",
              " 0.006669511552900076,\n",
              " 0.01407038327306509,\n",
              " -0.03131553903222084,\n",
              " 0.03136540204286575,\n",
              " 0.0038998981472104788,\n",
              " -0.023686114698648453,\n",
              " -0.0367010124027729,\n",
              " -0.008992413058876991,\n",
              " -0.023553140461444855,\n",
              " -0.000945366860833019,\n",
              " -0.018749430775642395,\n",
              " -0.005306520964950323,\n",
              " -0.002507819328457117,\n",
              " -0.005522604566067457,\n",
              " -0.0888935774564743,\n",
              " -0.008992413058876991,\n",
              " 0.019597142934799194,\n",
              " -0.012009276077151299,\n",
              " -0.03414124995470047,\n",
              " -0.03382543474435806,\n",
              " -0.010214117355644703,\n",
              " 0.05947292596101761,\n",
              " 0.0073343850672245026,\n",
              " 0.001079380395822227,\n",
              " 0.03259541839361191,\n",
              " 0.0063246083445847034,\n",
              " -0.011385956779122353,\n",
              " 0.0024434097576886415,\n",
              " 0.001010815380141139,\n",
              " -0.012732326053082943,\n",
              " 0.045444097369909286,\n",
              " -0.024567073211073875,\n",
              " -0.03869563341140747,\n",
              " -0.010205807164311409,\n",
              " -0.05182688310742378,\n",
              " 0.032911233603954315,\n",
              " -0.01364652719348669,\n",
              " 0.02195744402706623,\n",
              " -0.03520504757761955,\n",
              " -0.006657044868916273,\n",
              " -0.011419201269745827,\n",
              " 0.011593730188906193,\n",
              " 0.029071589931845665,\n",
              " -0.0055683148093521595,\n",
              " 0.02789144031703472,\n",
              " 0.034340713173151016,\n",
              " 0.03294447809457779,\n",
              " -0.005348075646907091,\n",
              " 0.011120007373392582,\n",
              " -0.04853576049208641,\n",
              " -0.020893646404147148,\n",
              " -0.035072073340415955,\n",
              " 0.006549003068357706,\n",
              " -0.017236843705177307,\n",
              " -0.01650548167526722,\n",
              " -0.013039830140769482,\n",
              " -0.03340988978743553,\n",
              " 0.04002537950873375,\n",
              " -0.009341471828520298,\n",
              " 0.01686285249888897,\n",
              " -0.023370301350951195,\n",
              " 0.008676597848534584,\n",
              " -0.018699564039707184,\n",
              " 0.004541916307061911,\n",
              " 0.020494723692536354,\n",
              " 0.0012871533399447799,\n",
              " 0.03979267552495003,\n",
              " -0.01931457221508026,\n",
              " -0.022472720593214035,\n",
              " -0.005468583665788174,\n",
              " -0.033443134278059006,\n",
              " -0.0246003158390522,\n",
              " 0.020893646404147148,\n",
              " -0.01023073960095644,\n",
              " -0.013023207895457745,\n",
              " -0.016763120889663696,\n",
              " -0.041421614587306976,\n",
              " -0.01775212027132511,\n",
              " -0.004911752417683601,\n",
              " 0.007438271306455135,\n",
              " -0.02952037937939167,\n",
              " 0.006307986564934254,\n",
              " 0.012906854972243309,\n",
              " -0.004458807408809662,\n",
              " 0.025647491216659546,\n",
              " 0.027326297014951706,\n",
              " -0.0015603747451677918,\n",
              " 0.013663148507475853,\n",
              " 0.01227522548288107,\n",
              " -0.012025898322463036,\n",
              " -0.010122697800397873,\n",
              " -0.027392784133553505,\n",
              " 0.01703738048672676,\n",
              " -0.006332919467240572,\n",
              " 0.047904130071401596,\n",
              " 0.0014897319488227367,\n",
              " 0.02009579911828041,\n",
              " 0.035005584359169006,\n",
              " -0.019580522552132607,\n",
              " -0.0013650682521983981,\n",
              " -0.013397199101746082,\n",
              " -0.004853575956076384,\n",
              " -0.004188702441751957,\n",
              " -0.02370273694396019,\n",
              " 0.06126808375120163,\n",
              " 0.013845988549292088,\n",
              " -0.015632836148142815,\n",
              " 0.012067452073097229,\n",
              " 0.019414303824305534,\n",
              " -0.02568073570728302,\n",
              " -0.005996326915919781,\n",
              " -0.013264224864542484,\n",
              " 0.011693460866808891,\n",
              " -0.04368218407034874,\n",
              " 0.05697965249419212,\n",
              " -0.0007531769224442542,\n",
              " -0.009840126149356365,\n",
              " -0.016763120889663696,\n",
              " -0.04128864035010338,\n",
              " 0.011892923153936863,\n",
              " -0.0035882387310266495,\n",
              " 0.001299619791097939,\n",
              " -0.009482757188379765,\n",
              " -0.05305689945816994,\n",
              " 0.014660459011793137,\n",
              " 0.0018793062772601843,\n",
              " 0.054453130811452866,\n",
              " 0.009732084348797798,\n",
              " -0.03390854224562645,\n",
              " -0.00039165199268609285,\n",
              " 0.008676597848534584,\n",
              " 0.0011614507529884577,\n",
              " 0.014918097294867039,\n",
              " -0.03786453977227211,\n",
              " 0.007371784187853336,\n",
              " 0.03360934928059578,\n",
              " 0.011219738982617855,\n",
              " -0.02351989783346653,\n",
              " -0.01637250743806362,\n",
              " 0.015009516850113869,\n",
              " -0.026628179475665092,\n",
              " 0.019713496789336205,\n",
              " 0.012674149125814438,\n",
              " 0.028772396966814995,\n",
              " 0.008456358686089516,\n",
              " 0.02483302168548107,\n",
              " -0.021043242886662483,\n",
              " -0.0020143587607890368,\n",
              " -0.006436805706471205,\n",
              " -0.031465135514736176,\n",
              " 0.023320434615015984,\n",
              " 0.05568314716219902,\n",
              " -0.010870680212974548,\n",
              " -0.0002407568972557783,\n",
              " 0.003704591654241085,\n",
              " -0.01848348043859005,\n",
              " -0.030983101576566696,\n",
              " -0.01961376518011093,\n",
              " -0.005809331312775612,\n",
              " -0.01485161017626524,\n",
              " -0.0014201280428096652,\n",
              " 0.012665838934481144,\n",
              " -0.0166301466524601,\n",
              " -0.008456358686089516,\n",
              " 0.030152009800076485,\n",
              " -0.00021907059999648482,\n",
              " -0.008900992572307587,\n",
              " -0.010205807164311409,\n",
              " -0.007047658320516348,\n",
              " 0.024151526391506195,\n",
              " -0.023187460377812386,\n",
              " 0.002119283890351653,\n",
              " -0.01811780035495758,\n",
              " 0.04843602702021599,\n",
              " -0.02214028500020504,\n",
              " 0.02963673323392868,\n",
              " 0.010662907734513283,\n",
              " -0.0031623041722923517,\n",
              " 0.01974674127995968,\n",
              " -0.015491550788283348,\n",
              " -0.0032267137430608273,\n",
              " 0.0004199610557407141,\n",
              " -0.019946202635765076,\n",
              " -0.00989830307662487,\n",
              " 0.031531620770692825,\n",
              " 0.04255189746618271,\n",
              " -0.022306503728032112,\n",
              " -0.033642593771219254,\n",
              " 0.014967963099479675,\n",
              " 0.022938132286071777,\n",
              " 0.05641450732946396,\n",
              " -0.02652844972908497,\n",
              " -0.0192647073417902,\n",
              " 0.014053761959075928,\n",
              " 0.004699823912233114,\n",
              " 0.009590798988938332,\n",
              " -0.019281329587101936,\n",
              " 0.036933716386556625,\n",
              " 0.026777775958180428,\n",
              " -0.02016228623688221,\n",
              " 0.046108972281217575,\n",
              " -0.015757499262690544,\n",
              " -0.025830332189798355,\n",
              " 0.04710628092288971,\n",
              " 0.008285985328257084,\n",
              " -0.017569279298186302,\n",
              " 0.043648939579725266,\n",
              " 0.005763621535152197,\n",
              " 0.006918839178979397,\n",
              " -0.007995102554559708,\n",
              " 0.0354045107960701,\n",
              " 0.020860403776168823,\n",
              " 0.01107014250010252,\n",
              " -0.032961100339889526,\n",
              " 0.045277878642082214,\n",
              " 0.019248085096478462,\n",
              " 0.04085646942257881,\n",
              " ...]"
            ]
          },
          "execution_count": 24,
          "metadata": {},
          "output_type": "execute_result"
        }
      ],
      "source": [
        "\n",
        "text = 'the quick brown fox jumped over the lazy dog'\n",
        "model= 'text-embedding-3-small'\n",
        "#os.environ['AZURE_OPENAI_EMBEDDINGS_DEPLOYMENT']\n",
        "print(model)\n",
        "client.embeddings.create(input='[text]', model=model).data[0].embedding"
      ]
    },
    {
      "cell_type": "code",
      "execution_count": 25,
      "metadata": {
        "gather": {
          "logged": 1674829555255
        },
        "jupyter": {
          "outputs_hidden": false,
          "source_hidden": false
        },
        "nteract": {
          "transient": {
            "deleting": false
          }
        }
      },
      "outputs": [
        {
          "name": "stdout",
          "output_type": "stream",
          "text": [
            "0.6317554362459548\n",
            "0.3310632980191572\n",
            "0.22704773734167324\n"
          ]
        }
      ],
      "source": [
        "\n",
        "# compare several words\n",
        "automobile_embedding  = client.embeddings.create(input='automobile', model=model).data[0].embedding\n",
        "vehicle_embedding     = client.embeddings.create(input='vehicle', model=model).data[0].embedding\n",
        "dinosaur_embedding    = client.embeddings.create(input='dinosaur', model=model).data[0].embedding\n",
        "stick_embedding       = client.embeddings.create(input='stick', model=model).data[0].embedding\n",
        "\n",
        "print(cosine_similarity(automobile_embedding, vehicle_embedding))\n",
        "print(cosine_similarity(automobile_embedding, dinosaur_embedding))\n",
        "print(cosine_similarity(automobile_embedding, stick_embedding))"
      ]
    },
    {
      "attachments": {},
      "cell_type": "markdown",
      "metadata": {
        "nteract": {
          "transient": {
            "deleting": false
          }
        }
      },
      "source": [
        "## Comparing article from cnn daily news dataset\n",
        "source: https://huggingface.co/datasets/cnn_dailymail\n"
      ]
    },
    {
      "cell_type": "code",
      "execution_count": null,
      "metadata": {
        "gather": {
          "logged": 1674831122093
        },
        "jupyter": {
          "outputs_hidden": false,
          "source_hidden": false
        },
        "nteract": {
          "transient": {
            "deleting": false
          }
        }
      },
      "outputs": [],
      "source": [
        "import pandas as pd\n",
        "cnn_daily_articles = ['BREMEN, Germany -- Carlos Alberto, who scored in FC Porto\\'s Champions League final victory against Monaco in 2004, has joined Bundesliga club Werder Bremen for a club record fee of 7.8 million euros ($10.7 million). Carlos Alberto enjoyed success at FC Porto under Jose Mourinho. \"I\\'m here to win titles with Werder,\" the 22-year-old said after his first training session with his new club. \"I like Bremen and would only have wanted to come here.\" Carlos Alberto started his career with Fluminense, and helped them to lift the Campeonato Carioca in 2002. In January 2004 he moved on to FC Porto, who were coached by José Mourinho, and the club won the Portuguese title as well as the Champions League. Early in 2005, he moved to Corinthians, where he impressed as they won the Brasileirão,but in 2006 Corinthians had a poor season and Carlos Alberto found himself at odds with manager, Emerson Leão. Their poor relationship came to a climax at a Copa Sul-Americana game against Club Atlético Lanús, and Carlos Alberto declared that he would not play for Corinthians again while Leão remained as manager. Since January this year he has been on loan with his first club Fluminense. Bundesliga champions VfB Stuttgart said on Sunday that they would sign a loan agreement with Real Zaragoza on Monday for Ewerthon, the third top Brazilian player to join the German league in three days. A VfB spokesman said Ewerthon, who played in the Bundesliga for Borussia Dortmund from 2001 to 2005, was expected to join the club for their pre-season training in Austria on Monday. On Friday, Ailton returned to Germany where he was the league\\'s top scorer in 2004, signing a one-year deal with Duisburg on a transfer from Red Star Belgrade. E-mail to a friend .',\n",
        "                        '(CNN) -- Football superstar, celebrity, fashion icon, multimillion-dollar heartthrob. Now, David Beckham is headed for the Hollywood Hills as he takes his game to U.S. Major League Soccer. CNN looks at how Bekham fulfilled his dream of playing for Manchester United, and his time playing for England. The world\\'s famous footballer has begun a five-year contract with the Los Angeles Galaxy team, and on Friday Beckham will meet the press and reveal his new shirt number. This week, we take an in depth look at the life and times of Beckham, as CNN\\'s very own \"Becks,\" Becky Anderson, sets out to examine what makes the man tick -- as footballer, fashion icon and global phenomenon. It\\'s a long way from the streets of east London to the Hollywood Hills and Becky charts Beckham\\'s incredible rise to football stardom, a journey that has seen his skills grace the greatest stages in world soccer. She goes in pursuit of the current hottest property on the sports/celebrity circuit in the U.S. and along the way explores exactly what\\'s behind the man with the golden boot. CNN will look back at the life of Beckham, the wonderfully talented youngster who fulfilled his dream of playing for Manchester United, his marriage to pop star Victoria, and the trials and tribulations of playing for England. We\\'ll look at the highs (scoring against Greece), the lows (being sent off during the World Cup), the Man. U departure for the Galacticos of Madrid -- and now the Home Depot stadium in L.A. We\\'ll ask how Beckham and his family will adapt to life in Los Angeles -- the people, the places to see and be seen and the celebrity endorsement. Beckham is no stranger to exposure. He has teamed with Reggie Bush in an Adidas commercial, is the face of Motorola, is the face on a PlayStation game and doesn\\'t need fashion tips as he has his own international clothing line. But what does the star couple need to do to become an accepted part of Tinseltown\\'s glitterati? The road to major league football in the U.S.A. is a well-worn route for some of the world\\'s greatest players. We talk to some of the former greats who came before him and examine what impact these overseas stars had on U.S. soccer and look at what is different now. We also get a rare glimpse inside the David Beckham academy in L.A, find out what drives the kids and who are their heroes. The perception that in the U.S.A. soccer is a \"game for girls\" after the teenage years is changing. More and more young kids are choosing the European game over the traditional U.S. sports. E-mail to a friend .',\n",
        "                        'LOS ANGELES, California (CNN) -- Youssif, the 5-year-old burned Iraqi boy, rounded the corner at Universal Studios when suddenly the little boy hero met his favorite superhero. Youssif has always been a huge Spider-Man fan. Meeting him was \"my favorite thing,\" he said. Spider-Man was right smack dab in front of him, riding a four-wheeler amid a convoy of other superheroes. The legendary climber of buildings and fighter of evil dismounted, walked over to Youssif and introduced himself. Spidey then gave the boy from a far-away land a gentle hug, embracing him in his iconic blue and red tights. He showed Youssif a few tricks, like how to shoot a web from his wrist. Only this time, no web was spun. \"All right Youssif!\" Spider-Man said after the boy mimicked his wrist movement. Other superheroes crowded around to get a closer look. Even the Green Goblin stopped his villainous ways to tell the boy hi. Youssif remained unfazed. He didn\\'t take a liking to Spider-Man\\'s nemesis. Spidey was just too cool. \"It was my favorite thing,\" the boy said later. \"I want to see him again.\" He then felt compelled to add: \"I know it\\'s not the real Spider-Man.\" This was the day of dreams when the boy\\'s nightmares were, at least temporarily, forgotten. He met SpongeBob, Lassie and a 3-year-old orangutan named Archie. The hairy, brownish-red primate took to the boy, grabbing his hand and holding it. Even when Youssif pulled away, Archie would inch his hand back toward the boy\\'s and then snatch it. See Youssif enjoy being a boy again » . The boy giggled inside a play area where sponge-like balls shot out of toy guns. It was a far different artillery than what he was used to seeing in central Baghdad, as recently as a week ago. He squealed with delight and raced around the room collecting as many balls as he could. He rode a tram through the back stages at Universal Studios. At one point, the car shook. Fire and smoke filled the air, debris cascaded down and a big rig skidded toward the vehicle. The boy and his family survived the pretend earthquake unscathed. \"Even I was scared,\" the dad said. \"Well, I wasn\\'t,\" Youssif replied. The father and mother grinned from ear to ear throughout the day. Youssif pushed his 14-month-old sister, Ayaa, in a stroller. \"Did you even need to ask us if we were interested in coming here?\" Youssif\\'s father said in amazement. \"Other than my wedding day, this is the happiest day of my life,\" he said. Just a day earlier, the mother and father talked about their journey out of Iraq and to the United States. They also discussed that day nine months ago when masked men grabbed their son outside the family home, doused him in gas and set him on fire. His mother heard her boy screaming from inside. The father sought help for his boy across Baghdad, but no one listened. He remembers his son\\'s two months of hospitalization. The doctors didn\\'t use anesthetics. He could hear his boy\\'s piercing screams from the other side of the hospital. Watch Youssif meet his doctor and play with his little sister » . The father knew that speaking to CNN would put his family\\'s lives in jeopardy. The possibility of being killed was better than seeing his son suffer, he said. \"Anything for Youssif,\" he said. \"We had to do it.\" They described a life of utter chaos in Baghdad. Neighbors had recently given birth to a baby girl. Shortly afterward, the father was kidnapped and killed. Then, there was the time when some girls wore tanktops and jeans. They were snatched off the street by gunmen. The stories can be even more gruesome. The couple said they had heard reports that a young girl was kidnapped and beheaded --and her killers sewed a dog\\'s head on the corpse and delivered it to her family\\'s doorstep. \"These are just some of the stories,\" said Youssif\\'s mother, Zainab. Under Saddam Hussein, there was more security and stability, they said. There was running water and electricity most of the time. But still life was tough under the dictator, like the time when Zainab\\'s uncle disappeared and was never heard from again after he read a \"religious book,\" she said. Sitting in the parking lot of a Target in suburban Los Angeles, Youssif\\'s father watched as husbands and wives, boyfriends and girlfriends, parents and their children, came and went. Some held hands. Others smiled and laughed. \"Iraq finished,\" he said in what few English words he knows. He elaborated in Arabic: His homeland won\\'t be enjoying such freedoms anytime soon. It\\'s just not possible. Too much violence. Too many killings. His two children have only seen war. But this week, the family has seen a much different side of America -- an outpouring of generosity and a peaceful nation at home. \"It\\'s been a dream,\" the father said. He used to do a lot of volunteer work back in Baghdad. \"Maybe that\\'s why I\\'m being helped now,\" the father said. At Universal Studios, he looked out across the valley below. The sun glistened off treetops and buildings. It was a picturesque sight fit for a Hollywood movie. \"Good America, good America,\" he said in English. E-mail to a friend . CNN\\'s Arwa Damon contributed to this report.'\n",
        "]\n",
        "\n",
        "cnn_daily_article_highlights = ['Werder Bremen pay a club record $10.7 million for Carlos Alberto .\\nThe Brazilian midfielder won the Champions League with FC Porto in 2004 .\\nSince January he has been on loan with his first club, Fluminense .',\n",
        "                                'Beckham has agreed to a five-year contract with Los Angeles Galaxy .\\nNew contract took effect July 1, 2007 .\\nFormer English captain to meet press, unveil new shirt number Friday .\\nCNN to look at Beckham as footballer, fashion icon and global phenomenon .',\n",
        "                                'Boy on meeting Spider-Man: \"It was my favorite thing\"\\nYoussif also met SpongeBob, Lassie and an orangutan at Universal Studios .\\nDad: \"Other than my wedding day, this is the happiest day of my life\"'\n",
        "]\n",
        "\n",
        "cnn_df = pd.DataFrame({\"articles\":cnn_daily_articles, \"highligths\":cnn_daily_article_highlights})\n",
        "\n",
        "cnn_df.head()"
      ]
    },
    {
      "cell_type": "code",
      "execution_count": null,
      "metadata": {
        "gather": {
          "logged": 1674831294043
        },
        "jupyter": {
          "outputs_hidden": false,
          "source_hidden": false
        },
        "nteract": {
          "transient": {
            "deleting": false
          }
        }
      },
      "outputs": [],
      "source": [
        "article1_embedding    = client.embeddings.create(input=cnn_df.articles.iloc[0], model=model).data[0].embedding\n",
        "article2_embedding    = client.embeddings.create(input=cnn_df.articles.iloc[1], model=model).data[0].embedding\n",
        "article3_embedding    = client.embeddings.create(input=cnn_df.articles.iloc[2], model=model).data[0].embedding\n",
        "\n",
        "print(cosine_similarity(article1_embedding, article2_embedding))\n",
        "print(cosine_similarity(article1_embedding, article3_embedding))"
      ]
    },
    {
      "attachments": {},
      "cell_type": "markdown",
      "metadata": {
        "nteract": {
          "transient": {
            "deleting": false
          }
        }
      },
      "source": [
        "# References  \n",
        "- [Azure Documentation - Azure OpenAI Models](https://learn.microsoft.com/azure/cognitive-services/openai/concepts/models?WT.mc_id=academic-105485-koreyst)  \n",
        "- [OpenAI Studio Examples](https://oai.azure.com/portal?WT.mc_id=academic-105485-koreyst)  "
      ]
    },
    {
      "attachments": {},
      "cell_type": "markdown",
      "metadata": {
        "nteract": {
          "transient": {
            "deleting": false
          }
        }
      },
      "source": [
        "# For More Help  \n",
        "[OpenAI Commercialization Team](AzureOpenAITeam@microsoft.com)"
      ]
    },
    {
      "attachments": {},
      "cell_type": "markdown",
      "metadata": {
        "nteract": {
          "transient": {
            "deleting": false
          }
        }
      },
      "source": [
        "# Contributors\n",
        "* Louis Li  \n"
      ]
    }
  ],
  "metadata": {
    "kernel_info": {
      "name": "python310-sdkv2"
    },
    "kernelspec": {
      "display_name": ".venv",
      "language": "python",
      "name": "python3"
    },
    "language_info": {
      "codemirror_mode": {
        "name": "ipython",
        "version": 3
      },
      "file_extension": ".py",
      "mimetype": "text/x-python",
      "name": "python",
      "nbconvert_exporter": "python",
      "pygments_lexer": "ipython3",
      "version": "3.12.1"
    },
    "microsoft": {
      "host": {
        "AzureML": {
          "notebookHasBeenCompleted": true
        }
      }
    },
    "nteract": {
      "version": "nteract-front-end@1.0.0"
    }
  },
  "nbformat": 4,
  "nbformat_minor": 2
}
